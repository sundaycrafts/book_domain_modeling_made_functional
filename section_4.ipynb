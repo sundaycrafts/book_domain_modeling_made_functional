{
 "cells": [
  {
   "cell_type": "markdown",
   "id": "83554942-44a4-4af4-b742-53b6695e0e62",
   "metadata": {},
   "source": [
    "## 4.1.2 Generic type function\n",
    "\n",
    "`'a` のように先頭にアポストロフィがついているものはジェネリック型をあらわします。"
   ]
  },
  {
   "cell_type": "code",
   "execution_count": 1,
   "id": "756a26bc-3096-402f-8a0e-a1e2f0395ea6",
   "metadata": {},
   "outputs": [
    {
     "data": {
      "text/html": [
       "\r\n",
       "<div>\r\n",
       "    <div id='dotnet-interactive-this-cell-98364.Microsoft.DotNet.Interactive.Http.HttpPort' style='display: none'>\r\n",
       "        The below script needs to be able to find the current output cell; this is an easy method to get it.\r\n",
       "    </div>\r\n",
       "    <script type='text/javascript'>\r\n",
       "async function probeAddresses(probingAddresses) {\r\n",
       "    function timeout(ms, promise) {\r\n",
       "        return new Promise(function (resolve, reject) {\r\n",
       "            setTimeout(function () {\r\n",
       "                reject(new Error('timeout'))\r\n",
       "            }, ms)\r\n",
       "            promise.then(resolve, reject)\r\n",
       "        })\r\n",
       "    }\r\n",
       "\r\n",
       "    if (Array.isArray(probingAddresses)) {\r\n",
       "        for (let i = 0; i < probingAddresses.length; i++) {\r\n",
       "\r\n",
       "            let rootUrl = probingAddresses[i];\r\n",
       "\r\n",
       "            if (!rootUrl.endsWith('/')) {\r\n",
       "                rootUrl = `${rootUrl}/`;\r\n",
       "            }\r\n",
       "\r\n",
       "            try {\r\n",
       "                let response = await timeout(1000, fetch(`${rootUrl}discovery`, {\r\n",
       "                    method: 'POST',\r\n",
       "                    cache: 'no-cache',\r\n",
       "                    mode: 'cors',\r\n",
       "                    timeout: 1000,\r\n",
       "                    headers: {\r\n",
       "                        'Content-Type': 'text/plain'\r\n",
       "                    },\r\n",
       "                    body: probingAddresses[i]\r\n",
       "                }));\r\n",
       "\r\n",
       "                if (response.status == 200) {\r\n",
       "                    return rootUrl;\r\n",
       "                }\r\n",
       "            }\r\n",
       "            catch (e) { }\r\n",
       "        }\r\n",
       "    }\r\n",
       "}\r\n",
       "\r\n",
       "function loadDotnetInteractiveApi() {\r\n",
       "    probeAddresses([\"http://127.0.2.2:2048/\", \"http://127.0.2.3:2048/\", \"http://192.168.1.62:2048/\", \"http://172.16.0.2:2048/\", \"http://127.0.0.1:2048/\"])\r\n",
       "        .then((root) => {\r\n",
       "        // use probing to find host url and api resources\r\n",
       "        // load interactive helpers and language services\r\n",
       "        let dotnetInteractiveRequire = require.config({\r\n",
       "        context: '98364.Microsoft.DotNet.Interactive.Http.HttpPort',\r\n",
       "                paths:\r\n",
       "            {\r\n",
       "                'dotnet-interactive': `${root}resources`\r\n",
       "                }\r\n",
       "        }) || require;\r\n",
       "\r\n",
       "            window.dotnetInteractiveRequire = dotnetInteractiveRequire;\r\n",
       "\r\n",
       "            window.configureRequireFromExtension = function(extensionName, extensionCacheBuster) {\r\n",
       "                let paths = {};\r\n",
       "                paths[extensionName] = `${root}extensions/${extensionName}/resources/`;\r\n",
       "                \r\n",
       "                let internalRequire = require.config({\r\n",
       "                    context: extensionCacheBuster,\r\n",
       "                    paths: paths,\r\n",
       "                    urlArgs: `cacheBuster=${extensionCacheBuster}`\r\n",
       "                    }) || require;\r\n",
       "\r\n",
       "                return internalRequire\r\n",
       "            };\r\n",
       "        \r\n",
       "            dotnetInteractiveRequire([\r\n",
       "                    'dotnet-interactive/dotnet-interactive'\r\n",
       "                ],\r\n",
       "                function (dotnet) {\r\n",
       "                    dotnet.init(window);\r\n",
       "                },\r\n",
       "                function (error) {\r\n",
       "                    console.log(error);\r\n",
       "                }\r\n",
       "            );\r\n",
       "        })\r\n",
       "        .catch(error => {console.log(error);});\r\n",
       "    }\r\n",
       "\r\n",
       "// ensure `require` is available globally\r\n",
       "if ((typeof(require) !==  typeof(Function)) || (typeof(require.config) !== typeof(Function))) {\r\n",
       "    let require_script = document.createElement('script');\r\n",
       "    require_script.setAttribute('src', 'https://cdnjs.cloudflare.com/ajax/libs/require.js/2.3.6/require.min.js');\r\n",
       "    require_script.setAttribute('type', 'text/javascript');\r\n",
       "    \r\n",
       "    \r\n",
       "    require_script.onload = function() {\r\n",
       "        loadDotnetInteractiveApi();\r\n",
       "    };\r\n",
       "\r\n",
       "    document.getElementsByTagName('head')[0].appendChild(require_script);\r\n",
       "}\r\n",
       "else {\r\n",
       "    loadDotnetInteractiveApi();\r\n",
       "}\r\n",
       "\r\n",
       "    </script>\r\n",
       "</div>"
      ]
     },
     "metadata": {},
     "output_type": "display_data"
    }
   ],
   "source": [
    "// areEqual signature : 'a -> 'a -> bool\n",
    "let areEqual x y =\n",
    "    (x = y)"
   ]
  },
  {
   "cell_type": "markdown",
   "id": "1d9d2303-1d8f-4fb0-bdae-2fd0420002c2",
   "metadata": {},
   "source": [
    "## 4.3.1-4.3.2 \"AND\" 型 (直積型) / \"OR\" 型 (直和型)\n",
    "\n",
    "テキストでは \"OR\" 型を \"選択型\" と読んでいる。\n",
    "F# では選択型を **判別共用体** と呼ぶ。"
   ]
  },
  {
   "cell_type": "code",
   "execution_count": 2,
   "id": "c40078b2-aaec-4f29-9425-18672c6dd9a9",
   "metadata": {},
   "outputs": [],
   "source": [
    "// OR type. これは後述の単純型をメンバーとして含まないため他言語で言う列挙型  (enum) と同等\n",
    "type AppleVariety =\n",
    "    | GoldenDelicious\n",
    "    | GrannySmith\n",
    "    | Fuji\n",
    "\n",
    "type BananaVariety =\n",
    "    | Cavendish\n",
    "    | GrosMichel\n",
    "    | Manzano\n",
    "\n",
    "type CherryVariety =\n",
    "    | Montmorency\n",
    "    | Bing\n",
    "\n",
    "// AND type\n",
    "type FruitSalad = {\n",
    "  Apple: AppleVariety\n",
    "  Banana: BananaVariety\n",
    "  Cherries: CherryVariety\n",
    "}"
   ]
  },
  {
   "cell_type": "markdown",
   "id": "87bb81d1-7f5d-4c4e-864a-8b2c50708b3b",
   "metadata": {},
   "source": [
    "## 4.3.3 単純型\n",
    "\n",
    "string / int などのプリミティブ型を内部の値として含む wrapper 型のこと。 Golang の newtype に相当。\n",
    "通常、単純型のケースラベル (`type TName = A of B` の `A` の部分) は型名と同じにする。ケースラベルはコンストラクタ関数となる。"
   ]
  },
  {
   "cell_type": "code",
   "execution_count": 3,
   "id": "b724f249-839d-4204-b952-d5ebf4408958",
   "metadata": {},
   "outputs": [],
   "source": [
    "type ProductCode =\n",
    "    | ProductCode of string\n",
    "type ProductCodeAlt = ProducCode of string\n",
    "\n",
    "let pid = ProductCode \"abc\" // この ProductCode は ケースラベルを参照する"
   ]
  },
  {
   "cell_type": "markdown",
   "id": "6da3bdd2-e7a6-41f2-99b4-2730958b2002",
   "metadata": {},
   "source": [
    "## 4.3.4 代数的な型システムとは\n",
    "\n",
    "**代数的な型システムとは、簡単に言えば、すべての複合型が、より小さな型を AND または OR で合成できているものです。**"
   ]
  },
  {
   "cell_type": "markdown",
   "id": "bfe82b12-d6c8-4c47-84e0-38275f8421a3",
   "metadata": {},
   "source": [
    "## 4.4 レコード型"
   ]
  },
  {
   "cell_type": "code",
   "execution_count": 4,
   "id": "ad8ec182-c5e6-4e69-8632-4e9cc427b95b",
   "metadata": {},
   "outputs": [
    {
     "name": "stdout",
     "output_type": "stream",
     "text": [
      "10 units\n",
      "2.5 kg\n"
     ]
    }
   ],
   "source": [
    "type Person = { First: string; Last: string }\n",
    "\n",
    "// usage\n",
    "let aPerson: Person = { First=\"Alex\"; Last=\"Adams\" }\n",
    "let {First=f; Last=l} = aPerson // or `let f = aPerson.First`\n",
    "\n",
    "// 判別共同体を単純型で構成する\n",
    "type OrderQuantity =\n",
    "    | UnitQuantity of int\n",
    "    | KilogramQuantity of decimal\n",
    "\n",
    "// usage\n",
    "let anOrderQtyInUnits: OrderQuantity = UnitQuantity 10\n",
    "let anOrderQtyInKg: OrderQuantity = KilogramQuantity 2.5m\n",
    "\n",
    "let printQuantity aOrderQty =\n",
    "    match aOrderQty with\n",
    "    | UnitQuantity uQty ->\n",
    "      printfn \"%i units\" uQty\n",
    "    | KilogramQuantity kgQty ->\n",
    "      printfn \"%g kg\" kgQty\n",
    "\n",
    "printQuantity anOrderQtyInUnits\n",
    "printQuantity anOrderQtyInKg"
   ]
  },
  {
   "cell_type": "code",
   "execution_count": 5,
   "id": "4813095e-ed48-4094-ade4-f39dcb26ec1f",
   "metadata": {},
   "outputs": [],
   "source": [
    "type CheckNumber = CheckNumber of int\n",
    "type CardNumber = CardNumber of string\n",
    "\n",
    "type CardType =\n",
    "    Visa | Mastercard\n",
    "\n",
    "type CreditCardInfo = {\n",
    "    CardType : CardType\n",
    "    CardNumber : CardNumber\n",
    "    }\n",
    "\n",
    "// いくつかのメンバーは単純型としてデータを内包するため、単純な列挙型 (enum) ではないので注意\n",
    "type PaymentMethod =\n",
    "    | Cash\n",
    "    | Check of CheckNumber\n",
    "    | Card of CreditCardInfo\n",
    "\n",
    "type PaymentAmount = PaymentAmount of decimal\n",
    "type Currency = EUR | USD\n",
    "\n",
    "type Payment = {\n",
    "  Amount : PaymentAmount\n",
    "  Currency : Currency\n",
    "  Method : PaymentMethod\n",
    "  }\n",
    "\n",
    "// example usage for function type\n",
    "type ConvertPaymentCurrency =\n",
    "    Payment -> Currency -> Payment"
   ]
  },
  {
   "cell_type": "markdown",
   "id": "62649af0-35da-403d-a014-5a9ba50a9cd6",
   "metadata": {},
   "source": [
    "## 4.6.1 省略可能な値のモデリング"
   ]
  },
  {
   "cell_type": "code",
   "execution_count": 6,
   "id": "d666709c-a7b0-40f7-8d61-7e59929239fc",
   "metadata": {},
   "outputs": [],
   "source": [
    "type PersonalName = {\n",
    "  FirstName : string\n",
    "  MiddleInitial : string option // 省略可能. alt. `Option<string>`\n",
    "  lastName : string\n",
    "  } "
   ]
  },
  {
   "cell_type": "markdown",
   "id": "f8399b28-ab43-4fa4-8997-8e8beae71bae",
   "metadata": {},
   "source": [
    "## 4.6.2 エラーのモデリング"
   ]
  },
  {
   "cell_type": "code",
   "execution_count": 7,
   "id": "0450eb41-2482-4c0f-91bc-f1ea2f88d186",
   "metadata": {},
   "outputs": [],
   "source": [
    "type UnpaidInvoice = {\n",
    "  Id: string\n",
    "}\n",
    "type PaidInvoice = {\n",
    "  Id: string\n",
    "}\n",
    "\n",
    "type PaymentError =\n",
    "    | CardTypeNotRecognized\n",
    "    | PaymentRejected\n",
    "    | PaymentProviderOffline\n",
    "    \n",
    "type PayInvoice =\n",
    "    UnpaidInvoice -> Payment -> Result<PaidInvoice, PaymentError>"
   ]
  },
  {
   "cell_type": "markdown",
   "id": "5f1b1b54-aa8d-4337-b04d-50573e5539a1",
   "metadata": {},
   "source": [
    "## 4.6.3 値が存在しないことのモデリング\n",
    "\n",
    "`unit` は「何も返さない」ことを示す。 **シグネチャの中に unit がある場合、それは副作用があることを強く示している**"
   ]
  },
  {
   "cell_type": "code",
   "execution_count": 8,
   "id": "0807c5e1-6bbe-4517-ac87-0d7e5d6f3082",
   "metadata": {},
   "outputs": [],
   "source": [
    "type SaveCustomer = int -> unit\n",
    "type NextRandom = unit -> int"
   ]
  },
  {
   "cell_type": "markdown",
   "id": "e415e2a4-f782-4120-82ad-e68271961141",
   "metadata": {},
   "source": [
    "## 4.6.4 リストとコレクションのモデリング"
   ]
  },
  {
   "cell_type": "code",
   "execution_count": 9,
   "id": "70dea88b-8010-45a1-8f9d-31e6951b2219",
   "metadata": {},
   "outputs": [],
   "source": [
    "type OrderId = OrderId of string\n",
    "type OrderLine = {\n",
    "  Name: string\n",
    "}\n",
    "\n",
    "type Order = {\n",
    "    OrderId: OrderId\n",
    "    Lines: OrderLine list\n",
    "}"
   ]
  }
 ],
 "metadata": {
  "kernelspec": {
   "display_name": ".NET (F#)",
   "language": "F#",
   "name": ".net-fsharp"
  },
  "language_info": {
   "file_extension": ".fs",
   "mimetype": "text/x-fsharp",
   "name": "F#",
   "pygments_lexer": "fsharp",
   "version": "8.0"
  }
 },
 "nbformat": 4,
 "nbformat_minor": 5
}
